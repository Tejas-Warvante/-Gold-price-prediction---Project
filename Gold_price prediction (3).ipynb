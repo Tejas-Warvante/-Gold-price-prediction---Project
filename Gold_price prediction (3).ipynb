{
 "cells": [
  {
   "cell_type": "markdown",
   "id": "257da2dc",
   "metadata": {},
   "source": [
    " ### PROJECT NAME :- GOLD PRICE PREDICTION."
   ]
  },
  {
   "cell_type": "code",
   "execution_count": 2,
   "id": "9ea96579",
   "metadata": {},
   "outputs": [],
   "source": [
    "import numpy as np\n",
    "import pandas as pd\n",
    "import matplotlib.pyplot as plt\n",
    "import seaborn as sns\n",
    "from sklearn.model_selection import train_test_split\n",
    "from sklearn.ensemble import RandomForestRegressor\n",
    "from sklearn import metrics"
   ]
  },
  {
   "cell_type": "code",
   "execution_count": 3,
   "id": "b472d062",
   "metadata": {},
   "outputs": [],
   "source": [
    "gold_data = pd.read_csv(\"gold_price.csv\")"
   ]
  },
  {
   "cell_type": "code",
   "execution_count": 4,
   "id": "87e4e8ba",
   "metadata": {},
   "outputs": [
    {
     "data": {
      "text/html": [
       "<div>\n",
       "<style scoped>\n",
       "    .dataframe tbody tr th:only-of-type {\n",
       "        vertical-align: middle;\n",
       "    }\n",
       "\n",
       "    .dataframe tbody tr th {\n",
       "        vertical-align: top;\n",
       "    }\n",
       "\n",
       "    .dataframe thead th {\n",
       "        text-align: right;\n",
       "    }\n",
       "</style>\n",
       "<table border=\"1\" class=\"dataframe\">\n",
       "  <thead>\n",
       "    <tr style=\"text-align: right;\">\n",
       "      <th></th>\n",
       "      <th>Date</th>\n",
       "      <th>SPX</th>\n",
       "      <th>GLD</th>\n",
       "      <th>USO</th>\n",
       "      <th>SLV</th>\n",
       "      <th>EUR/USD</th>\n",
       "    </tr>\n",
       "  </thead>\n",
       "  <tbody>\n",
       "    <tr>\n",
       "      <th>0</th>\n",
       "      <td>01-02-2008</td>\n",
       "      <td>1447.160034</td>\n",
       "      <td>84.860001</td>\n",
       "      <td>78.470001</td>\n",
       "      <td>15.180</td>\n",
       "      <td>1.471692</td>\n",
       "    </tr>\n",
       "    <tr>\n",
       "      <th>1</th>\n",
       "      <td>01-03-2008</td>\n",
       "      <td>1447.160034</td>\n",
       "      <td>85.570000</td>\n",
       "      <td>78.370003</td>\n",
       "      <td>15.285</td>\n",
       "      <td>1.474491</td>\n",
       "    </tr>\n",
       "    <tr>\n",
       "      <th>2</th>\n",
       "      <td>01-04-2008</td>\n",
       "      <td>1411.630005</td>\n",
       "      <td>85.129997</td>\n",
       "      <td>77.309998</td>\n",
       "      <td>15.167</td>\n",
       "      <td>1.475492</td>\n",
       "    </tr>\n",
       "    <tr>\n",
       "      <th>3</th>\n",
       "      <td>01-07-2008</td>\n",
       "      <td>1416.180054</td>\n",
       "      <td>84.769997</td>\n",
       "      <td>75.500000</td>\n",
       "      <td>15.053</td>\n",
       "      <td>1.468299</td>\n",
       "    </tr>\n",
       "    <tr>\n",
       "      <th>4</th>\n",
       "      <td>01-08-2008</td>\n",
       "      <td>1390.189941</td>\n",
       "      <td>86.779999</td>\n",
       "      <td>76.059998</td>\n",
       "      <td>15.590</td>\n",
       "      <td>1.557099</td>\n",
       "    </tr>\n",
       "  </tbody>\n",
       "</table>\n",
       "</div>"
      ],
      "text/plain": [
       "         Date          SPX        GLD        USO     SLV   EUR/USD\n",
       "0  01-02-2008  1447.160034  84.860001  78.470001  15.180  1.471692\n",
       "1  01-03-2008  1447.160034  85.570000  78.370003  15.285  1.474491\n",
       "2  01-04-2008  1411.630005  85.129997  77.309998  15.167  1.475492\n",
       "3  01-07-2008  1416.180054  84.769997  75.500000  15.053  1.468299\n",
       "4  01-08-2008  1390.189941  86.779999  76.059998  15.590  1.557099"
      ]
     },
     "execution_count": 4,
     "metadata": {},
     "output_type": "execute_result"
    }
   ],
   "source": [
    "gold_data.head()"
   ]
  },
  {
   "cell_type": "code",
   "execution_count": 5,
   "id": "28bc76f4",
   "metadata": {},
   "outputs": [
    {
     "data": {
      "text/html": [
       "<div>\n",
       "<style scoped>\n",
       "    .dataframe tbody tr th:only-of-type {\n",
       "        vertical-align: middle;\n",
       "    }\n",
       "\n",
       "    .dataframe tbody tr th {\n",
       "        vertical-align: top;\n",
       "    }\n",
       "\n",
       "    .dataframe thead th {\n",
       "        text-align: right;\n",
       "    }\n",
       "</style>\n",
       "<table border=\"1\" class=\"dataframe\">\n",
       "  <thead>\n",
       "    <tr style=\"text-align: right;\">\n",
       "      <th></th>\n",
       "      <th>Date</th>\n",
       "      <th>SPX</th>\n",
       "      <th>GLD</th>\n",
       "      <th>USO</th>\n",
       "      <th>SLV</th>\n",
       "      <th>EUR/USD</th>\n",
       "    </tr>\n",
       "  </thead>\n",
       "  <tbody>\n",
       "    <tr>\n",
       "      <th>2285</th>\n",
       "      <td>05-08-2018</td>\n",
       "      <td>2671.919922</td>\n",
       "      <td>124.589996</td>\n",
       "      <td>14.0600</td>\n",
       "      <td>15.5100</td>\n",
       "      <td>1.186789</td>\n",
       "    </tr>\n",
       "    <tr>\n",
       "      <th>2286</th>\n",
       "      <td>05-09-2018</td>\n",
       "      <td>2697.790039</td>\n",
       "      <td>124.330002</td>\n",
       "      <td>14.3700</td>\n",
       "      <td>15.5300</td>\n",
       "      <td>1.184722</td>\n",
       "    </tr>\n",
       "    <tr>\n",
       "      <th>2287</th>\n",
       "      <td>05-10-2018</td>\n",
       "      <td>2723.070068</td>\n",
       "      <td>125.180000</td>\n",
       "      <td>14.4100</td>\n",
       "      <td>15.7400</td>\n",
       "      <td>1.191753</td>\n",
       "    </tr>\n",
       "    <tr>\n",
       "      <th>2288</th>\n",
       "      <td>5/14/2018</td>\n",
       "      <td>2730.129883</td>\n",
       "      <td>124.489998</td>\n",
       "      <td>14.3800</td>\n",
       "      <td>15.5600</td>\n",
       "      <td>1.193118</td>\n",
       "    </tr>\n",
       "    <tr>\n",
       "      <th>2289</th>\n",
       "      <td>5/16/2018</td>\n",
       "      <td>2725.780029</td>\n",
       "      <td>122.543800</td>\n",
       "      <td>14.4058</td>\n",
       "      <td>15.4542</td>\n",
       "      <td>1.182033</td>\n",
       "    </tr>\n",
       "  </tbody>\n",
       "</table>\n",
       "</div>"
      ],
      "text/plain": [
       "            Date          SPX         GLD      USO      SLV   EUR/USD\n",
       "2285  05-08-2018  2671.919922  124.589996  14.0600  15.5100  1.186789\n",
       "2286  05-09-2018  2697.790039  124.330002  14.3700  15.5300  1.184722\n",
       "2287  05-10-2018  2723.070068  125.180000  14.4100  15.7400  1.191753\n",
       "2288   5/14/2018  2730.129883  124.489998  14.3800  15.5600  1.193118\n",
       "2289   5/16/2018  2725.780029  122.543800  14.4058  15.4542  1.182033"
      ]
     },
     "execution_count": 5,
     "metadata": {},
     "output_type": "execute_result"
    }
   ],
   "source": [
    "gold_data.tail()"
   ]
  },
  {
   "cell_type": "code",
   "execution_count": 6,
   "id": "a025b61d",
   "metadata": {},
   "outputs": [
    {
     "name": "stdout",
     "output_type": "stream",
     "text": [
      "<class 'pandas.core.frame.DataFrame'>\n",
      "RangeIndex: 2290 entries, 0 to 2289\n",
      "Data columns (total 6 columns):\n",
      " #   Column   Non-Null Count  Dtype  \n",
      "---  ------   --------------  -----  \n",
      " 0   Date     2290 non-null   object \n",
      " 1   SPX      2290 non-null   float64\n",
      " 2   GLD      2290 non-null   float64\n",
      " 3   USO      2290 non-null   float64\n",
      " 4   SLV      2290 non-null   float64\n",
      " 5   EUR/USD  2290 non-null   float64\n",
      "dtypes: float64(5), object(1)\n",
      "memory usage: 107.5+ KB\n"
     ]
    }
   ],
   "source": [
    "gold_data.info()"
   ]
  },
  {
   "cell_type": "code",
   "execution_count": 7,
   "id": "e9be762d",
   "metadata": {},
   "outputs": [
    {
     "data": {
      "text/plain": [
       "Date       0\n",
       "SPX        0\n",
       "GLD        0\n",
       "USO        0\n",
       "SLV        0\n",
       "EUR/USD    0\n",
       "dtype: int64"
      ]
     },
     "execution_count": 7,
     "metadata": {},
     "output_type": "execute_result"
    }
   ],
   "source": [
    "gold_data.isnull().sum()"
   ]
  },
  {
   "cell_type": "code",
   "execution_count": 8,
   "id": "aca29c9f",
   "metadata": {},
   "outputs": [
    {
     "data": {
      "text/html": [
       "<div>\n",
       "<style scoped>\n",
       "    .dataframe tbody tr th:only-of-type {\n",
       "        vertical-align: middle;\n",
       "    }\n",
       "\n",
       "    .dataframe tbody tr th {\n",
       "        vertical-align: top;\n",
       "    }\n",
       "\n",
       "    .dataframe thead th {\n",
       "        text-align: right;\n",
       "    }\n",
       "</style>\n",
       "<table border=\"1\" class=\"dataframe\">\n",
       "  <thead>\n",
       "    <tr style=\"text-align: right;\">\n",
       "      <th></th>\n",
       "      <th>SPX</th>\n",
       "      <th>GLD</th>\n",
       "      <th>USO</th>\n",
       "      <th>SLV</th>\n",
       "      <th>EUR/USD</th>\n",
       "    </tr>\n",
       "  </thead>\n",
       "  <tbody>\n",
       "    <tr>\n",
       "      <th>count</th>\n",
       "      <td>2290.000000</td>\n",
       "      <td>2290.000000</td>\n",
       "      <td>2290.000000</td>\n",
       "      <td>2290.000000</td>\n",
       "      <td>2290.000000</td>\n",
       "    </tr>\n",
       "    <tr>\n",
       "      <th>mean</th>\n",
       "      <td>1654.315776</td>\n",
       "      <td>122.732875</td>\n",
       "      <td>31.842221</td>\n",
       "      <td>20.084997</td>\n",
       "      <td>1.283653</td>\n",
       "    </tr>\n",
       "    <tr>\n",
       "      <th>std</th>\n",
       "      <td>519.111540</td>\n",
       "      <td>23.283346</td>\n",
       "      <td>19.523517</td>\n",
       "      <td>7.092566</td>\n",
       "      <td>0.131547</td>\n",
       "    </tr>\n",
       "    <tr>\n",
       "      <th>min</th>\n",
       "      <td>676.530029</td>\n",
       "      <td>70.000000</td>\n",
       "      <td>7.960000</td>\n",
       "      <td>8.850000</td>\n",
       "      <td>1.039047</td>\n",
       "    </tr>\n",
       "    <tr>\n",
       "      <th>25%</th>\n",
       "      <td>1239.874969</td>\n",
       "      <td>109.725000</td>\n",
       "      <td>14.380000</td>\n",
       "      <td>15.570000</td>\n",
       "      <td>1.171313</td>\n",
       "    </tr>\n",
       "    <tr>\n",
       "      <th>50%</th>\n",
       "      <td>1551.434998</td>\n",
       "      <td>120.580002</td>\n",
       "      <td>33.869999</td>\n",
       "      <td>17.268500</td>\n",
       "      <td>1.303297</td>\n",
       "    </tr>\n",
       "    <tr>\n",
       "      <th>75%</th>\n",
       "      <td>2073.010070</td>\n",
       "      <td>132.840004</td>\n",
       "      <td>37.827501</td>\n",
       "      <td>22.882500</td>\n",
       "      <td>1.369971</td>\n",
       "    </tr>\n",
       "    <tr>\n",
       "      <th>max</th>\n",
       "      <td>2872.870117</td>\n",
       "      <td>184.589996</td>\n",
       "      <td>117.480003</td>\n",
       "      <td>47.259998</td>\n",
       "      <td>1.598798</td>\n",
       "    </tr>\n",
       "  </tbody>\n",
       "</table>\n",
       "</div>"
      ],
      "text/plain": [
       "               SPX          GLD          USO          SLV      EUR/USD\n",
       "count  2290.000000  2290.000000  2290.000000  2290.000000  2290.000000\n",
       "mean   1654.315776   122.732875    31.842221    20.084997     1.283653\n",
       "std     519.111540    23.283346    19.523517     7.092566     0.131547\n",
       "min     676.530029    70.000000     7.960000     8.850000     1.039047\n",
       "25%    1239.874969   109.725000    14.380000    15.570000     1.171313\n",
       "50%    1551.434998   120.580002    33.869999    17.268500     1.303297\n",
       "75%    2073.010070   132.840004    37.827501    22.882500     1.369971\n",
       "max    2872.870117   184.589996   117.480003    47.259998     1.598798"
      ]
     },
     "execution_count": 8,
     "metadata": {},
     "output_type": "execute_result"
    }
   ],
   "source": [
    "gold_data.describe()"
   ]
  },
  {
   "cell_type": "code",
   "execution_count": 9,
   "id": "251b1933",
   "metadata": {},
   "outputs": [],
   "source": [
    "correlation = gold_data.corr()"
   ]
  },
  {
   "cell_type": "code",
   "execution_count": 10,
   "id": "e222a793",
   "metadata": {},
   "outputs": [
    {
     "data": {
      "text/plain": [
       "<AxesSubplot:>"
      ]
     },
     "execution_count": 10,
     "metadata": {},
     "output_type": "execute_result"
    },
    {
     "data": {
      "image/png": "[encoded data removed]",
      "text/plain": [
       "<Figure size 576x576 with 2 Axes>"
      ]
     },
     "metadata": {
      "needs_background": "light"
     },
     "output_type": "display_data"
    }
   ],
   "source": [
    "plt.figure(figsize = (8,8))\n",
    "sns.heatmap(correlation, cbar=True, square=True, fmt='.1f',annot=True, annot_kws={'size':8}, cmap='Blues')"
   ]
  },
  {
   "cell_type": "code",
   "execution_count": 11,
   "id": "760ead2b",
   "metadata": {},
   "outputs": [
    {
     "name": "stdout",
     "output_type": "stream",
     "text": [
      "SPX        0.049345\n",
      "GLD        1.000000\n",
      "USO       -0.186360\n",
      "SLV        0.866632\n",
      "EUR/USD   -0.024375\n",
      "Name: GLD, dtype: float64\n"
     ]
    }
   ],
   "source": [
    "print(correlation['GLD'])"
   ]
  },
  {
   "cell_type": "code",
   "execution_count": 12,
   "id": "9f821c55",
   "metadata": {},
   "outputs": [
    {
     "name": "stderr",
     "output_type": "stream",
     "text": [
      "C:\\Users\\TEJAS V WARVANTE\\anaconda3\\lib\\site-packages\\seaborn\\distributions.py:2619: FutureWarning: `distplot` is a deprecated function and will be removed in a future version. Please adapt your code to use either `displot` (a figure-level function with similar flexibility) or `histplot` (an axes-level function for histograms).\n",
      "  warnings.warn(msg, FutureWarning)\n"
     ]
    },
    {
     "data": {
      "text/plain": [
       "<AxesSubplot:xlabel='GLD', ylabel='Density'>"
      ]
     },
     "execution_count": 12,
     "metadata": {},
     "output_type": "execute_result"
    },
    {
     "data": {
      "image/png": "[encoded data removed]",
      "text/plain": [
       "<Figure size 432x288 with 1 Axes>"
      ]
     },
     "metadata": {
      "needs_background": "light"
     },
     "output_type": "display_data"
    }
   ],
   "source": [
    "sns.distplot(gold_data['GLD'],color='green')"
   ]
  },
  {
   "cell_type": "code",
   "execution_count": 13,
   "id": "f9fc2338",
   "metadata": {},
   "outputs": [],
   "source": [
    "x = gold_data.drop(['Date','GLD'],axis=1)\n",
    "Y = gold_data['GLD']"
   ]
  },
  {
   "cell_type": "code",
   "execution_count": 14,
   "id": "e66983c0",
   "metadata": {},
   "outputs": [
    {
     "name": "stdout",
     "output_type": "stream",
     "text": [
      "              SPX        USO      SLV   EUR/USD\n",
      "0     1447.160034  78.470001  15.1800  1.471692\n",
      "1     1447.160034  78.370003  15.2850  1.474491\n",
      "2     1411.630005  77.309998  15.1670  1.475492\n",
      "3     1416.180054  75.500000  15.0530  1.468299\n",
      "4     1390.189941  76.059998  15.5900  1.557099\n",
      "...           ...        ...      ...       ...\n",
      "2285  2671.919922  14.060000  15.5100  1.186789\n",
      "2286  2697.790039  14.370000  15.5300  1.184722\n",
      "2287  2723.070068  14.410000  15.7400  1.191753\n",
      "2288  2730.129883  14.380000  15.5600  1.193118\n",
      "2289  2725.780029  14.405800  15.4542  1.182033\n",
      "\n",
      "[2290 rows x 4 columns]\n"
     ]
    }
   ],
   "source": [
    "print(x)"
   ]
  },
  {
   "cell_type": "code",
   "execution_count": 15,
   "id": "f2b2bf43",
   "metadata": {},
   "outputs": [
    {
     "name": "stdout",
     "output_type": "stream",
     "text": [
      "0        84.860001\n",
      "1        85.570000\n",
      "2        85.129997\n",
      "3        84.769997\n",
      "4        86.779999\n",
      "           ...    \n",
      "2285    124.589996\n",
      "2286    124.330002\n",
      "2287    125.180000\n",
      "2288    124.489998\n",
      "2289    122.543800\n",
      "Name: GLD, Length: 2290, dtype: float64\n"
     ]
    }
   ],
   "source": [
    "print(Y)"
   ]
  },
  {
   "cell_type": "code",
   "execution_count": 16,
   "id": "1ecbb465",
   "metadata": {},
   "outputs": [],
   "source": [
    "x_train, x_test, Y_train, Y_test = train_test_split(x, Y, test_size = 0.2, random_state=2)"
   ]
  },
  {
   "cell_type": "code",
   "execution_count": 17,
   "id": "b680d50b",
   "metadata": {},
   "outputs": [],
   "source": [
    "regressor = RandomForestRegressor(n_estimators=100)"
   ]
  },
  {
   "cell_type": "code",
   "execution_count": 18,
   "id": "5e8c64f2",
   "metadata": {},
   "outputs": [
    {
     "data": {
      "text/plain": [
       "RandomForestRegressor()"
      ]
     },
     "execution_count": 18,
     "metadata": {},
     "output_type": "execute_result"
    }
   ],
   "source": [
    "regressor.fit(x_train,Y_train)"
   ]
  },
  {
   "cell_type": "code",
   "execution_count": 19,
   "id": "e6193b68",
   "metadata": {},
   "outputs": [],
   "source": [
    "test_data_prediction = regressor.predict(x_test)"
   ]
  },
  {
   "cell_type": "code",
   "execution_count": 20,
   "id": "2871a3f3",
   "metadata": {},
   "outputs": [
    {
     "name": "stdout",
     "output_type": "stream",
     "text": [
      "[168.58989947  82.03009978 115.95760034 127.6814008  120.80910086\n",
      " 154.51699841 150.55969755 126.17040029 117.46009861 125.98090056\n",
      " 116.69450099 171.78480083 141.83449819 167.87619839 115.10980009\n",
      " 117.56970046 138.78940262 170.29550114 159.64110352 160.77989979\n",
      " 155.09120032 125.23989997 176.28529945 157.00870347 125.1469005\n",
      "  93.6595996   77.01810006 120.58330005 119.05239928 167.61569946\n",
      "  88.16640011 125.39990007  91.03490087 117.64220025 121.02669942\n",
      " 136.15230109 115.59370141 115.08000093 148.6502992  107.12500122\n",
      " 104.07400239  87.35469811 126.39250032 117.99740017 153.10419942\n",
      " 119.54370003 108.28820027 108.06269803  93.22120074 127.14899755\n",
      "  74.45100062 113.65449957 121.3951001  111.15599914 118.92839873\n",
      " 120.72649902 159.34299922 167.36000135 147.04019684  85.99359886\n",
      "  94.22300046  86.94149878  90.69460004 118.93480095 126.47270057\n",
      " 127.51769984 169.30950019 122.21259959 117.30199894  98.6310005\n",
      " 168.89930166 143.1259989  132.25260305 121.14900226 121.08419937\n",
      " 119.53250059 114.53970164 118.24730058 107.04030122 127.86330068\n",
      " 113.93229959 107.49720003 116.54850089 119.643099    88.86650061\n",
      "  88.26769867 146.44670227 127.29789972 113.25450054 110.60059812\n",
      " 108.19559916  77.52989931 169.86990202 114.15219929 121.65609935\n",
      " 128.01260192 154.85879896  91.78329892 136.3402016  159.11950403\n",
      " 125.1278007  125.18660047 130.5837018  114.99350151 119.79930001\n",
      "  92.09969998 110.26819887 168.01269957 157.40409959 114.23039949\n",
      " 106.51320128  79.56629973 113.11710027 125.76990044 107.43619961\n",
      " 119.18740082 155.6196027  160.00729928 120.25710022 134.00100263\n",
      " 101.47079974 117.60879808 119.11910035 112.94190064 102.77129907\n",
      " 160.34389789  98.81790074 146.47889898 125.41000083 169.64879975\n",
      " 125.56179861 127.29139768 127.519502   113.78539926 113.36830088\n",
      " 123.62739932 102.0066986   89.75549979 124.62359919 101.57159984\n",
      " 107.1124989  113.41390048 117.18130085  99.63159964 121.87040082\n",
      " 163.23019902  87.49149846 106.8366     117.25370074 127.72390113\n",
      " 124.12800066  80.78119891 120.31110032 157.91049886  87.8641995\n",
      " 110.12749956 118.93179913 172.55089884 102.93699916 105.4009004\n",
      " 122.64830031 158.2540982   87.62949817  93.31310014 112.59680048\n",
      " 177.52249928 114.72059959 119.1086005   94.97390115 125.7726998\n",
      " 166.16710143 115.00080102 116.87130115  88.38499874 148.70650068\n",
      " 120.3564996   89.48639992 111.78390008 117.54880038 118.8211012\n",
      "  88.11439949  94.33280017 116.67130018 118.52910163 120.41950024\n",
      " 126.69449842 121.86679986 150.19420057 165.11800078 118.59009955\n",
      " 120.41650167 151.26760012 118.48059888 172.81769904 105.3797993\n",
      " 104.94220102 149.13850078 113.45240082 124.90130123 147.54270039\n",
      " 119.55070144 115.34260024 112.09100011 113.42140187 141.01960151\n",
      " 117.90159758 102.8933003  115.88050103 103.58270184  98.95350044\n",
      " 117.57390086  90.56040015  91.55410061 153.6016988  102.76699976\n",
      " 155.0037008  114.4164015  138.87490115  90.01879846 115.56959915\n",
      " 114.11739996 122.85680069 121.84370015 165.49060146  92.82199971\n",
      " 136.03140143 121.35949938 120.62240101 104.76750026 141.31310321\n",
      " 121.91509936 116.72750052 113.45380046 127.08489726 122.66759944\n",
      " 125.77959934 121.25130032  86.92899935 132.33780194 144.79490204\n",
      "  92.79269957 158.25489927 159.04800347 126.0803994  164.48569931\n",
      " 108.7296997  110.81790081 103.47019815  94.25980052 127.54110229\n",
      " 107.10030052 160.81379984 121.84980055 132.00770031 130.65740176\n",
      " 160.13679912  90.02309881 175.65570137 127.22390059 126.76909881\n",
      "  86.45969946 124.36039906 150.28579797  89.72290016 107.03940023\n",
      " 108.88049973  84.33559894 135.76549981 154.58930188 139.0711035\n",
      "  74.05350021 152.52260103 125.79089993 126.84209995 127.57669884\n",
      " 108.63809943 156.25619942 114.62880102 116.82440136 125.58949955\n",
      " 153.98620186 121.36560035 156.3558992   93.00330076 125.48230125\n",
      " 125.80670041  88.0532007   92.14509942 126.27939897 128.07520371\n",
      " 113.25250035 117.92629743 120.72930007 127.11439785 119.96820114\n",
      " 136.71690065  93.78359901 119.77210036 113.10560102  94.20719925\n",
      " 108.89309957  87.64789912 108.73849976  89.53130003  92.47230015\n",
      " 131.57630269 162.22540078  89.26120053 119.70660096 133.55700205\n",
      " 123.95260023 128.2437019  101.81239811  89.02639869 131.5988004\n",
      " 120.05680006 108.84070012 168.27460161 115.11880023  86.59849898\n",
      " 118.73200059  91.08409982 162.13270042 116.65530066 121.67620033\n",
      " 160.25839829 120.1569993  112.55029941 108.42709894 126.65919975\n",
      "  75.72730015 102.97649984 127.41170256 121.94599904  92.53300031\n",
      " 132.96280079 118.31500097 116.09330001 154.72840301 159.2976012\n",
      " 110.10049931 156.03939793 119.19010094 160.36620151 118.19150043\n",
      " 157.90879876 115.12089935 116.7097003  148.2752991  114.8378005\n",
      " 125.919499   166.23729919 117.94330005 125.16799906 153.63770342\n",
      " 153.5582023  132.22100116 114.82220013 121.13830207 125.09050073\n",
      "  89.92909994 123.12829973 154.57240071 111.67620024 106.83020018\n",
      " 161.60010136 118.60690004 165.76139996 134.26670108 114.96159982\n",
      " 153.05109904 168.78030075 115.22450032 114.14810138 157.57639802\n",
      "  85.23669887 127.04480066 128.00949996 128.8647002  124.39640038\n",
      " 124.09160079  90.61090045 153.22779968  97.26809961 136.82449984\n",
      "  89.16959921 107.45769991 114.9641002  112.76010081 124.46699907\n",
      "  91.362099   125.34800133 162.31359892 119.85179874 164.84170145\n",
      " 126.65709844 112.33649997 127.63399971  94.82939914  91.0033998\n",
      " 102.96779907 120.77039993  83.11759929 126.39449959 160.48420507\n",
      " 117.33670068 118.3393998  119.96589974 122.64889949 119.97590122\n",
      " 121.61050017 118.10280058 106.92079979 148.37779993 126.34279831\n",
      " 115.6947009   74.14679962 127.83610105 154.7462009  122.01200056\n",
      " 125.587901    88.78690007 103.49639876 124.21790048 120.27700044\n",
      "  73.41730079 151.81649977 121.2201002  104.70350011  86.44539774\n",
      " 115.04229924 172.23909823 119.95190017 160.42169768 113.2598996\n",
      " 121.31230035 118.64620066  95.99869981 118.85859994 126.12820046\n",
      " 118.62019967  95.57910032 153.74620168 122.23750031 147.79100036\n",
      " 159.36820287 114.02940016 122.58169942 149.03539829 126.98810022\n",
      " 165.83600086 135.90880037 120.22630005 167.60369925 108.4421993\n",
      " 121.86269811 138.61370076 107.51549893]\n"
     ]
    }
   ],
   "source": [
    "print(test_data_prediction)"
   ]
  },
  {
   "cell_type": "code",
   "execution_count": 21,
   "id": "a3c394a2",
   "metadata": {},
   "outputs": [
    {
     "name": "stdout",
     "output_type": "stream",
     "text": [
      "R squared error :  0.989331450325485\n"
     ]
    }
   ],
   "source": [
    "error_score = metrics.r2_score(Y_test, test_data_prediction)\n",
    "print(\"R squared error : \", error_score)"
   ]
  },
  {
   "cell_type": "code",
   "execution_count": 22,
   "id": "2166fc72",
   "metadata": {},
   "outputs": [],
   "source": [
    "Y_test = list(Y_test)"
   ]
  },
  {
   "cell_type": "code",
   "execution_count": 25,
   "id": "64bacd07",
   "metadata": {},
   "outputs": [
    {
     "data": {
      "image/png": "[encoded data removed]",
      "text/plain": [
       "<Figure size 432x288 with 1 Axes>"
      ]
     },
     "metadata": {
      "needs_background": "light"
     },
     "output_type": "display_data"
    }
   ],
   "source": [
    "plt.plot(Y_test, color='blue', label = 'Actual Value')\n",
    "plt.plot(test_data_prediction, color='red', label='Predicted Value')\n",
    "plt.title('Actual Price vs Predicted Price')\n",
    "plt.xlabel('Number of values')\n",
    "plt.ylabel('GLD Price')\n",
    "plt.legend()\n",
    "plt.show()"
   ]
  }
 ],
 "metadata": {
  "kernelspec": {
   "display_name": "Python 3 (ipykernel)",
   "language": "python",
   "name": "python3"
  },
  "language_info": {
   "codemirror_mode": {
    "name": "ipython",
    "version": 3
   },
   "file_extension": ".py",
   "mimetype": "text/x-python",
   "name": "python",
   "nbconvert_exporter": "python",
   "pygments_lexer": "ipython3",
   "version": "3.9.12"
  }
 },
 "nbformat": 4,
 "nbformat_minor": 5
}
